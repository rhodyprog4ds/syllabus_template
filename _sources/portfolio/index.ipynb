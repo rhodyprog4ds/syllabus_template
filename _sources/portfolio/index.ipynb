{
 "cells": [
  {
   "cell_type": "markdown",
   "id": "4e7260e0",
   "metadata": {},
   "source": [
    "# Portfolio"
   ]
  },
  {
   "cell_type": "code",
   "execution_count": 1,
   "id": "fb9da5c4",
   "metadata": {
    "tags": [
     "remove-input"
    ]
   },
   "outputs": [
    {
     "name": "stderr",
     "output_type": "stream",
     "text": [
      "/opt/hostedtoolcache/Python/3.7.15/x64/lib/python3.7/site-packages/ipykernel_launcher.py:26: FutureWarning: Using the level keyword in DataFrame and Series aggregations is deprecated and will be removed in a future version. Use groupby instead. df.sum(level=1) should use df.groupby(level=1).sum().\n",
      "/opt/hostedtoolcache/Python/3.7.15/x64/lib/python3.7/site-packages/ipykernel_launcher.py:31: FutureWarning: Using the level keyword in DataFrame and Series aggregations is deprecated and will be removed in a future version. Use groupby instead. df.sum(level=1) should use df.groupby(level=1).sum().\n"
     ]
    }
   ],
   "source": [
    "\n",
    "import yaml as yml\n",
    "import pandas as pd\n",
    "import os\n",
    "pd.set_option('display.max_colwidth', None)\n",
    "\n",
    "\n",
    "def yml_df(file):\n",
    "    with open(file, 'r') as f:\n",
    "        file_unparsed = f.read()\n",
    "\n",
    "    file_dict = yml.safe_load(file_unparsed)\n",
    "    return pd.DataFrame(file_dict)\n",
    "\n",
    "outcomes_df = yml_df('../_data/learning_outcomes.yml')\n",
    "outcomes_df.set_index('keyword',inplace=True)\n",
    "schedule_df = yml_df('../_data/schedule.yml')\n",
    "schedule_df.set_index('week', inplace=True)\n",
    "# schedule_df = pd.merge(schedule_df,outcomes_df,right_on='keyword',  left_on= 'clo')\n",
    "rubric_df = yml_df('../_data/rubric.yml')\n",
    "rubric_df.set_index('keyword', inplace=True)\n",
    "rubric_df.replace({None:'TBD'},inplace=True)\n",
    "rubric_df.rename(columns={'mastery':'Level 3',\n",
    "              'compentent':'Level 2',\n",
    "              'aware':'Level 1'}, inplace=True)\n",
    "\n",
    "assignment_dummies  = pd.get_dummies(rubric_df['assignments'].apply(pd.Series).stack()).sum(level=0)\n",
    "assignment_dummies['# Assignments'] = assignment_dummies.sum(axis=1)\n",
    "col_rename = {float(i):'A' + str(i) for i in range(1,14)}\n",
    "assignment_dummies.rename(columns =col_rename,inplace=True)\n",
    "\n",
    "portfolio_dummies  = pd.get_dummies(rubric_df['portfolios'].apply(pd.Series).stack()).sum(level=0)\n",
    "col_rename = {float(i):'P' + str(i) for i in range(1,5)}\n",
    "portfolio_dummies.rename(columns =col_rename,inplace=True)\n",
    "\n",
    "\n",
    "rubric_df = pd.concat([rubric_df,\n",
    "                      assignment_dummies,\n",
    "                      portfolio_dummies],axis=1)\n",
    "\n",
    "assignment_cols =  ['A'+ str(i) for i in range(1,14)] + ['# Assignments']\n",
    "\n",
    "portfolio_cols = [ 'Level 3'] + ['P' + str(i) for i in range(1,5)]\n",
    "portfolio_df = rubric_df[portfolio_cols]"
   ]
  },
  {
   "cell_type": "markdown",
   "id": "09a57416",
   "metadata": {},
   "source": [
    "This section of the site has a set of portfolio prompts and this page has instructions for portfolio submissions.  \n",
    "\n",
    "Starting in week 3 it is recommended that you spend some time each week working on items for your portfolio, that way when it's time to submit you only have a little bit to add before submission.\n",
    "\n",
    "The portfolio is your only chance to earn Level 3 achievements, however, if you have not earned a level 2 for any of the skills in a given check, you could earn level 2 then instead.\n",
    "The prompts provide a starting point, but remember that to earn achievements, you'll be evaluated by the rubric.\n",
    "You can see the full rubric for all portfolios in the [syllabus](portfolioskills).\n",
    "Your portfolio is also an opportunity to be creative, explore things, and answer your own questions that we haven't answered in class to dig deeper on the topics we're covering.\n",
    "Use the feedback you get on assignments to inspire your portfolio.\n",
    "\n",
    "Each submission should include an introduction and a number of 'chapters'.  The grade will be based on both that you demonstrate skills through your chapters that are inspired by the prompts and that your summary demonstrates that you *know* you learned the skills. See the [formatting tips](formatting) for advice on how to structure files.\n",
    "\n",
    "\n",
    "On each chapter(for a file) of your portfolio, you should identify which skills by their keyword, you are applying.\n",
    "\n",
    "You can view a (fake) example [in this repository](https://github.com/rhodyprog4ds/portfolio-brownsarahm) as a [pdf](https://github.com/rhodyprog4ds/portfolio-brownsarahm/blob/gh-pages/portfolio.pdf) or as a [rendered website](https://rhodyprog4ds.github.io/portfolio-brownsarahm/intro.html)\n",
    "\n",
    "## Upcoming Checks\n",
    "\n",
    "### Portfolio 1\n",
    "\n",
    "More information to follow\n",
    "<!--\n",
    "```{code-cell} ipython3\n",
    ":tags: [remove-input]\n",
    "\n",
    "portfolio_df['Level 3'][portfolio_df['P2']==1].reset_index().set_index('keyword')\n",
    "```\n",
    "\n",
    "\n",
    "\n",
    "\n",
    "The third submission will be graded on the following criteria and due on December 4:\n",
    "\n",
    "```{code-cell} ipython3\n",
    ":tags: [remove-input]\n",
    "\n",
    "portfolio_df['Level 3'][portfolio_df['P3']==1].reset_index().set_index('keyword')\n",
    "```\n",
    "\n",
    "\n",
    "```{code-cell} ipython3\n",
    ":tags: [remove-input]\n",
    "\n",
    "portfolio_df['Level 3'][portfolio_df['P4']==1].reset_index().set_index('keyword')\n",
    "```\n",
    " -->"
   ]
  }
 ],
 "metadata": {
  "jupytext": {
   "text_representation": {
    "extension": ".md",
    "format_name": "myst",
    "format_version": 0.12,
    "jupytext_version": "1.6.0"
   }
  },
  "kernelspec": {
   "display_name": "Python 3",
   "language": "python",
   "name": "python3"
  },
  "language_info": {
   "codemirror_mode": {
    "name": "ipython",
    "version": 3
   },
   "file_extension": ".py",
   "mimetype": "text/x-python",
   "name": "python",
   "nbconvert_exporter": "python",
   "pygments_lexer": "ipython3",
   "version": "3.7.15"
  },
  "source_map": [
   12,
   16,
   63
  ]
 },
 "nbformat": 4,
 "nbformat_minor": 5
}
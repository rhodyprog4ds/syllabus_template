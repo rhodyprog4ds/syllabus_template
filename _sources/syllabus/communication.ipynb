{
 "cells": [
  {
   "cell_type": "markdown",
   "id": "efd96723",
   "metadata": {},
   "source": [
    "# Course Communications"
   ]
  },
  {
   "cell_type": "code",
   "execution_count": 1,
   "id": "8334d18f",
   "metadata": {
    "tags": [
     "remove-input"
    ]
   },
   "outputs": [],
   "source": [
    "import pandas as pd\n",
    "from IPython.display import display, Markdown, HTML\n",
    "pd.set_option('display.max_colwidth', 0)\n",
    "df = pd.read_csv('../_data/communication.csv')\n",
    "\n",
    "help_df = pd.read_csv('../_data/help_hours.csv')"
   ]
  },
  {
   "cell_type": "markdown",
   "id": "b3288602",
   "metadata": {},
   "source": [
    "## Help Hours"
   ]
  },
  {
   "cell_type": "code",
   "execution_count": 2,
   "id": "ce10626e",
   "metadata": {
    "tags": [
     "remove-input"
    ]
   },
   "outputs": [
    {
     "data": {
      "text/html": [
       "<style type=\"text/css\">\n",
       "</style>\n",
       "<table id=\"T_ce995_\">\n",
       "  <thead>\n",
       "    <tr>\n",
       "      <th class=\"col_heading level0 col0\" >Day</th>\n",
       "      <th class=\"col_heading level0 col1\" >Time</th>\n",
       "      <th class=\"col_heading level0 col2\" >Location</th>\n",
       "      <th class=\"col_heading level0 col3\" >Host</th>\n",
       "    </tr>\n",
       "  </thead>\n",
       "  <tbody>\n",
       "    <tr>\n",
       "      <td id=\"T_ce995_row0_col0\" class=\"data row0 col0\" >Tuesday</td>\n",
       "      <td id=\"T_ce995_row0_col1\" class=\"data row0 col1\" > 11am-12pm</td>\n",
       "      <td id=\"T_ce995_row0_col2\" class=\"data row0 col2\" > 139 Tyler Hall</td>\n",
       "      <td id=\"T_ce995_row0_col3\" class=\"data row0 col3\" > Aiden</td>\n",
       "    </tr>\n",
       "    <tr>\n",
       "      <td id=\"T_ce995_row1_col0\" class=\"data row1 col0\" >Wednesday</td>\n",
       "      <td id=\"T_ce995_row1_col1\" class=\"data row1 col1\" > 11am-12pm</td>\n",
       "      <td id=\"T_ce995_row1_col2\" class=\"data row1 col2\" > 139 Tyler Hall</td>\n",
       "      <td id=\"T_ce995_row1_col3\" class=\"data row1 col3\" > Aiden</td>\n",
       "    </tr>\n",
       "    <tr>\n",
       "      <td id=\"T_ce995_row2_col0\" class=\"data row2 col0\" >Wednesday</td>\n",
       "      <td id=\"T_ce995_row2_col1\" class=\"data row2 col1\" > 7pm-8:30pm</td>\n",
       "      <td id=\"T_ce995_row2_col2\" class=\"data row2 col2\" > Zoom</td>\n",
       "      <td id=\"T_ce995_row2_col3\" class=\"data row2 col3\" > Dr. Brown </td>\n",
       "    </tr>\n",
       "    <tr>\n",
       "      <td id=\"T_ce995_row3_col0\" class=\"data row3 col0\" >Thursday</td>\n",
       "      <td id=\"T_ce995_row3_col1\" class=\"data row3 col1\" > 11am-12pm</td>\n",
       "      <td id=\"T_ce995_row3_col2\" class=\"data row3 col2\" > 139 Tyler Hall</td>\n",
       "      <td id=\"T_ce995_row3_col3\" class=\"data row3 col3\" > Aiden</td>\n",
       "    </tr>\n",
       "    <tr>\n",
       "      <td id=\"T_ce995_row4_col0\" class=\"data row4 col0\" >Friday</td>\n",
       "      <td id=\"T_ce995_row4_col1\" class=\"data row4 col1\" > 11am-12pm</td>\n",
       "      <td id=\"T_ce995_row4_col2\" class=\"data row4 col2\" > 139 Tyler Hall</td>\n",
       "      <td id=\"T_ce995_row4_col3\" class=\"data row4 col3\" > Aiden</td>\n",
       "    </tr>\n",
       "    <tr>\n",
       "      <td id=\"T_ce995_row5_col0\" class=\"data row5 col0\" >Friday</td>\n",
       "      <td id=\"T_ce995_row5_col1\" class=\"data row5 col1\" > 3:30-4:30</td>\n",
       "      <td id=\"T_ce995_row5_col2\" class=\"data row5 col2\" > 134 Tyler Hall </td>\n",
       "      <td id=\"T_ce995_row5_col3\" class=\"data row5 col3\" > Dr. Brown</td>\n",
       "    </tr>\n",
       "  </tbody>\n",
       "</table>\n"
      ],
      "text/plain": [
       "<pandas.io.formats.style.Styler at 0x7f12a43ba550>"
      ]
     },
     "execution_count": 2,
     "metadata": {},
     "output_type": "execute_result"
    }
   ],
   "source": [
    "help_df.style.hide_index()"
   ]
  },
  {
   "cell_type": "markdown",
   "id": "a888d06c",
   "metadata": {},
   "source": [
    "We have several different ways to communicate in this course. This section summarizes them\n",
    "\n",
    "\n",
    "## To reach out, By usage"
   ]
  },
  {
   "cell_type": "code",
   "execution_count": 3,
   "id": "cf54b755",
   "metadata": {
    "tags": [
     "remove-input"
    ]
   },
   "outputs": [
    {
     "data": {
      "text/html": [
       "<style type=\"text/css\">\n",
       "</style>\n",
       "<table id=\"T_cacd2_\">\n",
       "  <thead>\n",
       "    <tr>\n",
       "      <th class=\"col_heading level0 col0\" >usage</th>\n",
       "      <th class=\"col_heading level0 col1\" >platform</th>\n",
       "      <th class=\"col_heading level0 col2\" >area</th>\n",
       "      <th class=\"col_heading level0 col3\" >note</th>\n",
       "    </tr>\n",
       "  </thead>\n",
       "  <tbody>\n",
       "    <tr>\n",
       "      <td id=\"T_cacd2_row0_col0\" class=\"data row0 col0\" > in class</td>\n",
       "      <td id=\"T_cacd2_row0_col1\" class=\"data row0 col1\" >prismia</td>\n",
       "      <td id=\"T_cacd2_row0_col2\" class=\"data row0 col2\" > chat</td>\n",
       "      <td id=\"T_cacd2_row0_col3\" class=\"data row0 col3\" > outside of class time this is not monitored closely</td>\n",
       "    </tr>\n",
       "    <tr>\n",
       "      <td id=\"T_cacd2_row1_col0\" class=\"data row1 col0\" > any time </td>\n",
       "      <td id=\"T_cacd2_row1_col1\" class=\"data row1 col1\" >prismia</td>\n",
       "      <td id=\"T_cacd2_row1_col2\" class=\"data row1 col2\" > download transcript</td>\n",
       "      <td id=\"T_cacd2_row1_col3\" class=\"data row1 col3\" > use after class to get preliminary notes eg if you miss a class</td>\n",
       "    </tr>\n",
       "    <tr>\n",
       "      <td id=\"T_cacd2_row2_col0\" class=\"data row2 col0\" > private questions to your assignment</td>\n",
       "      <td id=\"T_cacd2_row2_col1\" class=\"data row2 col1\" >github</td>\n",
       "      <td id=\"T_cacd2_row2_col2\" class=\"data row2 col2\" > issue on assignment repo</td>\n",
       "      <td id=\"T_cacd2_row2_col3\" class=\"data row2 col3\" > eg bugs in your code\"</td>\n",
       "    </tr>\n",
       "    <tr>\n",
       "      <td id=\"T_cacd2_row3_col0\" class=\"data row3 col0\" > for general questions that can help others</td>\n",
       "      <td id=\"T_cacd2_row3_col1\" class=\"data row3 col1\" >github</td>\n",
       "      <td id=\"T_cacd2_row3_col2\" class=\"data row3 col2\" > issue on course website</td>\n",
       "      <td id=\"T_cacd2_row3_col3\" class=\"data row3 col3\" > eg what the instructions of an assignment mean or questions about the syllabus</td>\n",
       "    </tr>\n",
       "    <tr>\n",
       "      <td id=\"T_cacd2_row4_col0\" class=\"data row4 col0\" > to share resources or ask general questions in a semi-private forum</td>\n",
       "      <td id=\"T_cacd2_row4_col1\" class=\"data row4 col1\" >github</td>\n",
       "      <td id=\"T_cacd2_row4_col2\" class=\"data row4 col2\" > discussion on community repo</td>\n",
       "      <td id=\"T_cacd2_row4_col3\" class=\"data row4 col3\" > include links in your portfolio</td>\n",
       "    </tr>\n",
       "    <tr>\n",
       "      <td id=\"T_cacd2_row5_col0\" class=\"data row5 col0\" > matters that don't fit into another category</td>\n",
       "      <td id=\"T_cacd2_row5_col1\" class=\"data row5 col1\" >e-mail</td>\n",
       "      <td id=\"T_cacd2_row5_col2\" class=\"data row5 col2\" > to brownsarahm@uri.edu</td>\n",
       "      <td id=\"T_cacd2_row5_col3\" class=\"data row5 col3\" > remember to include `[CSC310]` or `[DSP310]` (note `verbatim` no space)</td>\n",
       "    </tr>\n",
       "  </tbody>\n",
       "</table>\n"
      ],
      "text/plain": [
       "<IPython.core.display.HTML object>"
      ]
     },
     "metadata": {},
     "output_type": "display_data"
    }
   ],
   "source": [
    "df = df[['usage','platform','area','note']]\n",
    "display(HTML(df.style.hide_index()._repr_html_()))"
   ]
  },
  {
   "cell_type": "markdown",
   "id": "80335963",
   "metadata": {},
   "source": [
    "```{note}\n",
    "e-mail is last because it's not collaborative; other platforms allow us (Proessor + TA) to collaborate on who responds to things more easily.\n",
    "```\n",
    "\n",
    "## By Platform"
   ]
  },
  {
   "cell_type": "code",
   "execution_count": 4,
   "id": "52c2fdae",
   "metadata": {
    "tags": [
     "remove-input"
    ]
   },
   "outputs": [
    {
     "data": {
      "text/html": [
       "<h3> Use e-mail for </h3>"
      ],
      "text/plain": [
       "<IPython.core.display.HTML object>"
      ]
     },
     "metadata": {},
     "output_type": "display_data"
    },
    {
     "data": {
      "text/html": [
       "<style type=\"text/css\">\n",
       "</style>\n",
       "<table id=\"T_58925_\">\n",
       "  <thead>\n",
       "    <tr>\n",
       "      <th class=\"col_heading level0 col0\" >usage</th>\n",
       "      <th class=\"col_heading level0 col1\" >area</th>\n",
       "      <th class=\"col_heading level0 col2\" >note</th>\n",
       "    </tr>\n",
       "  </thead>\n",
       "  <tbody>\n",
       "    <tr>\n",
       "      <td id=\"T_58925_row0_col0\" class=\"data row0 col0\" > matters that don't fit into another category</td>\n",
       "      <td id=\"T_58925_row0_col1\" class=\"data row0 col1\" > to brownsarahm@uri.edu</td>\n",
       "      <td id=\"T_58925_row0_col2\" class=\"data row0 col2\" > remember to include `[CSC310]` or `[DSP310]` (note `verbatim` no space)</td>\n",
       "    </tr>\n",
       "  </tbody>\n",
       "</table>\n"
      ],
      "text/plain": [
       "<IPython.core.display.HTML object>"
      ]
     },
     "metadata": {},
     "output_type": "display_data"
    },
    {
     "data": {
      "text/html": [
       "<h3> Use github for </h3>"
      ],
      "text/plain": [
       "<IPython.core.display.HTML object>"
      ]
     },
     "metadata": {},
     "output_type": "display_data"
    },
    {
     "data": {
      "text/html": [
       "<style type=\"text/css\">\n",
       "</style>\n",
       "<table id=\"T_ae938_\">\n",
       "  <thead>\n",
       "    <tr>\n",
       "      <th class=\"col_heading level0 col0\" >usage</th>\n",
       "      <th class=\"col_heading level0 col1\" >area</th>\n",
       "      <th class=\"col_heading level0 col2\" >note</th>\n",
       "    </tr>\n",
       "  </thead>\n",
       "  <tbody>\n",
       "    <tr>\n",
       "      <td id=\"T_ae938_row0_col0\" class=\"data row0 col0\" > private questions to your assignment</td>\n",
       "      <td id=\"T_ae938_row0_col1\" class=\"data row0 col1\" > issue on assignment repo</td>\n",
       "      <td id=\"T_ae938_row0_col2\" class=\"data row0 col2\" > eg bugs in your code\"</td>\n",
       "    </tr>\n",
       "    <tr>\n",
       "      <td id=\"T_ae938_row1_col0\" class=\"data row1 col0\" > for general questions that can help others</td>\n",
       "      <td id=\"T_ae938_row1_col1\" class=\"data row1 col1\" > issue on course website</td>\n",
       "      <td id=\"T_ae938_row1_col2\" class=\"data row1 col2\" > eg what the instructions of an assignment mean or questions about the syllabus</td>\n",
       "    </tr>\n",
       "    <tr>\n",
       "      <td id=\"T_ae938_row2_col0\" class=\"data row2 col0\" > to share resources or ask general questions in a semi-private forum</td>\n",
       "      <td id=\"T_ae938_row2_col1\" class=\"data row2 col1\" > discussion on community repo</td>\n",
       "      <td id=\"T_ae938_row2_col2\" class=\"data row2 col2\" > include links in your portfolio</td>\n",
       "    </tr>\n",
       "  </tbody>\n",
       "</table>\n"
      ],
      "text/plain": [
       "<IPython.core.display.HTML object>"
      ]
     },
     "metadata": {},
     "output_type": "display_data"
    },
    {
     "data": {
      "text/html": [
       "<h3> Use prismia for </h3>"
      ],
      "text/plain": [
       "<IPython.core.display.HTML object>"
      ]
     },
     "metadata": {},
     "output_type": "display_data"
    },
    {
     "data": {
      "text/html": [
       "<style type=\"text/css\">\n",
       "</style>\n",
       "<table id=\"T_7783b_\">\n",
       "  <thead>\n",
       "    <tr>\n",
       "      <th class=\"col_heading level0 col0\" >usage</th>\n",
       "      <th class=\"col_heading level0 col1\" >area</th>\n",
       "      <th class=\"col_heading level0 col2\" >note</th>\n",
       "    </tr>\n",
       "  </thead>\n",
       "  <tbody>\n",
       "    <tr>\n",
       "      <td id=\"T_7783b_row0_col0\" class=\"data row0 col0\" > in class</td>\n",
       "      <td id=\"T_7783b_row0_col1\" class=\"data row0 col1\" > chat</td>\n",
       "      <td id=\"T_7783b_row0_col2\" class=\"data row0 col2\" > outside of class time this is not monitored closely</td>\n",
       "    </tr>\n",
       "    <tr>\n",
       "      <td id=\"T_7783b_row1_col0\" class=\"data row1 col0\" > any time </td>\n",
       "      <td id=\"T_7783b_row1_col1\" class=\"data row1 col1\" > download transcript</td>\n",
       "      <td id=\"T_7783b_row1_col2\" class=\"data row1 col2\" > use after class to get preliminary notes eg if you miss a class</td>\n",
       "    </tr>\n",
       "  </tbody>\n",
       "</table>\n"
      ],
      "text/plain": [
       "<IPython.core.display.HTML object>"
      ]
     },
     "metadata": {},
     "output_type": "display_data"
    }
   ],
   "source": [
    "for platform, data in df.groupby('platform'):\n",
    "    display(HTML('<h3> Use '+ platform + ' for </h3>'))\n",
    "    display(HTML(data.drop(columns='platform').style.hide_index()._repr_html_()))"
   ]
  },
  {
   "cell_type": "markdown",
   "id": "d49f8b41",
   "metadata": {},
   "source": [
    "## Tips\n",
    "\n",
    "### For assignment help\n",
    "\n",
    "- **send in advance, leave time for a response** I check e-mail/github a small number of times per day, during work hours, almost exclusively. You might see me post to this site, post to BrightSpace, or comment on your assignments outside of my normal working hours, but I will not reliably see emails that arrive during those hours. This means that it is important to start assignments early.\n",
    "\n",
    "### Using issues\n",
    "\n",
    "- use issues for content directly related to assignments.  If you push your code to the repository and then open an issue, I can see your code and your question at the same time and download it to run it if I need to debug it\n",
    "- use issues for questions about this syllabus or class notes. At the top right there's a GitHub logo <i class=\"fab fa-github\"></i> that allows you to open a issue (for a question) or suggest an edit (eg if you think there's a typo or you find an additional helpful resource related to something)\n",
    "\n",
    "### For E-email\n",
    "````{margin}\n",
    "```{note}\n",
    "Whether you use CSC or DSP does not matter.  \n",
    "```\n",
    "````\n",
    "- use e-mail for general inquiries or notifications\n",
    "- Please include `[CSC310]` or `[DSP310]` in the subject line of your email along with the topic of your message. This is important, because your messages are important, but I also get a lot of e-mail. Consider these a cheat code to my inbox: I have setup a filter that will flag your e-mail if you use one of those in the subject to ensure that I see it."
   ]
  }
 ],
 "metadata": {
  "jupytext": {
   "text_representation": {
    "extension": ".md",
    "format_name": "myst",
    "format_version": 0.13,
    "jupytext_version": "1.10.3"
   }
  },
  "kernelspec": {
   "display_name": "Python 3",
   "language": "python",
   "name": "python3"
  },
  "language_info": {
   "codemirror_mode": {
    "name": "ipython",
    "version": 3
   },
   "file_extension": ".py",
   "mimetype": "text/x-python",
   "name": "python",
   "nbconvert_exporter": "python",
   "pygments_lexer": "ipython3",
   "version": "3.7.15"
  },
  "source_map": [
   12,
   20,
   29,
   34,
   38,
   46,
   51,
   59,
   66
  ]
 },
 "nbformat": 4,
 "nbformat_minor": 5
}